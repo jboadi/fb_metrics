{
 "cells": [
  {
   "cell_type": "markdown",
   "metadata": {},
   "source": [
    "## Case Study, Part 2 - Modelling Lifetime Post Consumers <br>\n",
    "\n",
    "### Investigation Structure\n",
    "1. Question Statement\n",
    "2. Data Dictionary\n",
    "3. Dataset\n",
    "4. Exploratory Data Analysis\n",
    "5. Pre-processing\n",
    "6. Modeling\n",
    "7. Model Evaluation\n",
    "8. Conclusion\n",
    "9. Improve / Productionise\n",
    "\n",
    "Data comes via the UCI dataset: https://archive.ics.uci.edu/ml/datasets/Facebook+metrics"
   ]
  },
  {
   "cell_type": "markdown",
   "metadata": {},
   "source": [
    "#### 1. Question Statement\n",
    "Predict ‘Lifetime post consumers’ using any or all of the following features: <br>\n",
    "Category <br>Type  <br>Page total likes <br>Post Month <br>Post Weekday <br>Post Hour <br>Paid"
   ]
  },
  {
   "cell_type": "markdown",
   "metadata": {},
   "source": [
    " "
   ]
  },
  {
   "cell_type": "code",
   "execution_count": 1,
   "metadata": {},
   "outputs": [],
   "source": [
    "import os\n",
    "import numpy as np\n",
    "import pandas as pd\n",
    "from pandas_profiling import ProfileReport\n",
    "from scipy import stats\n",
    "from scipy.special import boxcox, inv_boxcox\n",
    "import matplotlib.pyplot as plt\n",
    "import seaborn as sns\n",
    "\n",
    "from sklearn.preprocessing import MinMaxScaler, OneHotEncoder\n",
    "from sklearn.model_selection import train_test_split, GridSearchCV\n",
    "from sklearn.linear_model import LinearRegression, ElasticNet\n",
    "from sklearn.ensemble import GradientBoostingRegressor, RandomForestRegressor\n",
    "from sklearn.svm import SVR\n",
    "\n",
    "from sklearn.metrics import r2_score, mean_squared_error"
   ]
  },
  {
   "cell_type": "markdown",
   "metadata": {},
   "source": [
    "#### 2. Data dictionary"
   ]
  },
  {
   "cell_type": "markdown",
   "metadata": {},
   "source": [
    "##### Categories \n",
    "- 1 = action\n",
    "- 2 = product\n",
    "- 3 = inspiration\n",
    "\n",
    "##### Paid \n",
    "- 1 = paid \n",
    "- 0 = not paid\n",
    "\n",
    "I will refer to `Lifetime Post Consumers` as **LPC** in short"
   ]
  },
  {
   "cell_type": "markdown",
   "metadata": {},
   "source": [
    "#### 3. Dataset"
   ]
  },
  {
   "cell_type": "code",
   "execution_count": 2,
   "metadata": {},
   "outputs": [],
   "source": [
    "fb_data = pd.read_csv(\"dataset_Facebook.csv\",sep=';')"
   ]
  },
  {
   "cell_type": "code",
   "execution_count": 3,
   "metadata": {},
   "outputs": [],
   "source": [
    "fb_data = fb_data[['Category', 'Type', 'Page total likes', 'Post Month', 'Post Weekday', 'Post Hour', 'Paid', 'Lifetime Post Consumers']]"
   ]
  },
  {
   "cell_type": "markdown",
   "metadata": {},
   "source": [
    " "
   ]
  },
  {
   "cell_type": "markdown",
   "metadata": {},
   "source": [
    "#### 4. Exploratory Data Analysis"
   ]
  },
  {
   "cell_type": "code",
   "execution_count": 4,
   "metadata": {},
   "outputs": [
    {
     "data": {
      "text/html": [
       "<div>\n",
       "<style scoped>\n",
       "    .dataframe tbody tr th:only-of-type {\n",
       "        vertical-align: middle;\n",
       "    }\n",
       "\n",
       "    .dataframe tbody tr th {\n",
       "        vertical-align: top;\n",
       "    }\n",
       "\n",
       "    .dataframe thead th {\n",
       "        text-align: right;\n",
       "    }\n",
       "</style>\n",
       "<table border=\"1\" class=\"dataframe\">\n",
       "  <thead>\n",
       "    <tr style=\"text-align: right;\">\n",
       "      <th></th>\n",
       "      <th>Category</th>\n",
       "      <th>Type</th>\n",
       "      <th>Page total likes</th>\n",
       "      <th>Post Month</th>\n",
       "      <th>Post Weekday</th>\n",
       "      <th>Post Hour</th>\n",
       "      <th>Paid</th>\n",
       "      <th>Lifetime Post Consumers</th>\n",
       "    </tr>\n",
       "  </thead>\n",
       "  <tbody>\n",
       "    <tr>\n",
       "      <th>0</th>\n",
       "      <td>2</td>\n",
       "      <td>Photo</td>\n",
       "      <td>139441</td>\n",
       "      <td>12</td>\n",
       "      <td>4</td>\n",
       "      <td>3</td>\n",
       "      <td>0.0</td>\n",
       "      <td>109</td>\n",
       "    </tr>\n",
       "    <tr>\n",
       "      <th>1</th>\n",
       "      <td>2</td>\n",
       "      <td>Status</td>\n",
       "      <td>139441</td>\n",
       "      <td>12</td>\n",
       "      <td>3</td>\n",
       "      <td>10</td>\n",
       "      <td>0.0</td>\n",
       "      <td>1361</td>\n",
       "    </tr>\n",
       "    <tr>\n",
       "      <th>2</th>\n",
       "      <td>3</td>\n",
       "      <td>Photo</td>\n",
       "      <td>139441</td>\n",
       "      <td>12</td>\n",
       "      <td>3</td>\n",
       "      <td>3</td>\n",
       "      <td>0.0</td>\n",
       "      <td>113</td>\n",
       "    </tr>\n",
       "    <tr>\n",
       "      <th>3</th>\n",
       "      <td>2</td>\n",
       "      <td>Photo</td>\n",
       "      <td>139441</td>\n",
       "      <td>12</td>\n",
       "      <td>2</td>\n",
       "      <td>10</td>\n",
       "      <td>1.0</td>\n",
       "      <td>790</td>\n",
       "    </tr>\n",
       "    <tr>\n",
       "      <th>4</th>\n",
       "      <td>2</td>\n",
       "      <td>Photo</td>\n",
       "      <td>139441</td>\n",
       "      <td>12</td>\n",
       "      <td>2</td>\n",
       "      <td>3</td>\n",
       "      <td>0.0</td>\n",
       "      <td>410</td>\n",
       "    </tr>\n",
       "  </tbody>\n",
       "</table>\n",
       "</div>"
      ],
      "text/plain": [
       "   Category    Type  Page total likes  Post Month  Post Weekday  Post Hour  \\\n",
       "0         2   Photo            139441          12             4          3   \n",
       "1         2  Status            139441          12             3         10   \n",
       "2         3   Photo            139441          12             3          3   \n",
       "3         2   Photo            139441          12             2         10   \n",
       "4         2   Photo            139441          12             2          3   \n",
       "\n",
       "   Paid  Lifetime Post Consumers  \n",
       "0   0.0                      109  \n",
       "1   0.0                     1361  \n",
       "2   0.0                      113  \n",
       "3   1.0                      790  \n",
       "4   0.0                      410  "
      ]
     },
     "execution_count": 4,
     "metadata": {},
     "output_type": "execute_result"
    }
   ],
   "source": [
    "fb_data.head()"
   ]
  },
  {
   "cell_type": "markdown",
   "metadata": {},
   "source": [
    "##### Use pandas profiling to take a look at correlations and univariate statistics"
   ]
  },
  {
   "cell_type": "code",
   "execution_count": 5,
   "metadata": {},
   "outputs": [],
   "source": [
    "if not os.path.isfile(\"profile_output.html\"):\n",
    "    profile = ProfileReport(fb_data, title='Pandas Profiling Report', html={'style':{'full_width':True}})\n",
    "    profile.to_file(output_file=\"profile_output.html\")"
   ]
  },
  {
   "cell_type": "markdown",
   "metadata": {},
   "source": [
    "##### Open profile html file"
   ]
  },
  {
   "cell_type": "code",
   "execution_count": 6,
   "metadata": {},
   "outputs": [],
   "source": [
    "!open profile_output.html"
   ]
  },
  {
   "cell_type": "code",
   "execution_count": 7,
   "metadata": {},
   "outputs": [
    {
     "data": {
      "image/png": "[encoded data removed]",
      "text/plain": [
       "<Figure size 576x396 with 1 Axes>"
      ]
     },
     "metadata": {},
     "output_type": "display_data"
    }
   ],
   "source": [
    "fb_data.Category = fb_data.Category.map({1:'action',2:'product',3:'inspiration'})\n",
    "fb_data.Category.hist()\n",
    "plt.show()"
   ]
  },
  {
   "cell_type": "markdown",
   "metadata": {},
   "source": [
    " "
   ]
  },
  {
   "cell_type": "code",
   "execution_count": 8,
   "metadata": {},
   "outputs": [
    {
     "data": {
      "text/plain": [
       "(0.0, 3000.0)"
      ]
     },
     "execution_count": 8,
     "metadata": {},
     "output_type": "execute_result"
    },
    {
     "data": {
      "image/png": "[encoded data removed]",
      "text/plain": [
       "<Figure size 576x396 with 1 Axes>"
      ]
     },
     "metadata": {},
     "output_type": "display_data"
    }
   ],
   "source": [
    "sns.boxplot(x='Category',y='Lifetime Post Consumers',data=fb_data[fb_data['Lifetime Post Consumers']<8000],palette='viridis')\n",
    "plt.ylim(0,3000)"
   ]
  },
  {
   "cell_type": "markdown",
   "metadata": {},
   "source": [
    "- Most post were of Category 1[Action].\n",
    "- Even though action category is the most common, it doesn't have the highest Lifetime post consumer(LPC). Product and Inspiration on average have the same LPC, action category has the lowest LPC."
   ]
  },
  {
   "cell_type": "markdown",
   "metadata": {},
   "source": [
    " "
   ]
  },
  {
   "cell_type": "markdown",
   "metadata": {},
   "source": [
    "#### 5. Preprocessing"
   ]
  },
  {
   "cell_type": "code",
   "execution_count": 9,
   "metadata": {},
   "outputs": [
    {
     "data": {
      "text/plain": [
       "Index(['Category', 'Type', 'Page total likes', 'Post Month', 'Post Weekday',\n",
       "       'Post Hour', 'Paid', 'Lifetime Post Consumers'],\n",
       "      dtype='object')"
      ]
     },
     "execution_count": 9,
     "metadata": {},
     "output_type": "execute_result"
    }
   ],
   "source": [
    "fb_data.columns"
   ]
  },
  {
   "cell_type": "markdown",
   "metadata": {},
   "source": [
    "##### Missing values\n",
    "From our EDA profiling, we know that only Paid feature has a missing values."
   ]
  },
  {
   "cell_type": "code",
   "execution_count": 10,
   "metadata": {},
   "outputs": [
    {
     "data": {
      "text/plain": [
       "Category                   0\n",
       "Type                       0\n",
       "Page total likes           0\n",
       "Post Month                 0\n",
       "Post Weekday               0\n",
       "Post Hour                  0\n",
       "Paid                       1\n",
       "Lifetime Post Consumers    0\n",
       "dtype: int64"
      ]
     },
     "execution_count": 10,
     "metadata": {},
     "output_type": "execute_result"
    }
   ],
   "source": [
    "# number of missing values per feature\n",
    "fb_data.isna().sum()"
   ]
  },
  {
   "cell_type": "code",
   "execution_count": 11,
   "metadata": {},
   "outputs": [
    {
     "data": {
      "text/plain": [
       "0.0    360\n",
       "1.0    139\n",
       "NaN      1\n",
       "Name: Paid, dtype: int64"
      ]
     },
     "execution_count": 11,
     "metadata": {},
     "output_type": "execute_result"
    }
   ],
   "source": [
    "# how many missing values\n",
    "fb_data.Paid.value_counts(dropna=False)"
   ]
  },
  {
   "cell_type": "code",
   "execution_count": 12,
   "metadata": {},
   "outputs": [
    {
     "data": {
      "text/html": [
       "<div>\n",
       "<style scoped>\n",
       "    .dataframe tbody tr th:only-of-type {\n",
       "        vertical-align: middle;\n",
       "    }\n",
       "\n",
       "    .dataframe tbody tr th {\n",
       "        vertical-align: top;\n",
       "    }\n",
       "\n",
       "    .dataframe thead th {\n",
       "        text-align: right;\n",
       "    }\n",
       "</style>\n",
       "<table border=\"1\" class=\"dataframe\">\n",
       "  <thead>\n",
       "    <tr style=\"text-align: right;\">\n",
       "      <th></th>\n",
       "      <th>Category</th>\n",
       "      <th>Type</th>\n",
       "      <th>Page total likes</th>\n",
       "      <th>Post Month</th>\n",
       "      <th>Post Weekday</th>\n",
       "      <th>Post Hour</th>\n",
       "      <th>Paid</th>\n",
       "      <th>Lifetime Post Consumers</th>\n",
       "    </tr>\n",
       "  </thead>\n",
       "  <tbody>\n",
       "    <tr>\n",
       "      <th>499</th>\n",
       "      <td>product</td>\n",
       "      <td>Photo</td>\n",
       "      <td>81370</td>\n",
       "      <td>1</td>\n",
       "      <td>4</td>\n",
       "      <td>4</td>\n",
       "      <td>NaN</td>\n",
       "      <td>524</td>\n",
       "    </tr>\n",
       "  </tbody>\n",
       "</table>\n",
       "</div>"
      ],
      "text/plain": [
       "    Category   Type  Page total likes  Post Month  Post Weekday  Post Hour  \\\n",
       "499  product  Photo             81370           1             4          4   \n",
       "\n",
       "     Paid  Lifetime Post Consumers  \n",
       "499   NaN                      524  "
      ]
     },
     "execution_count": 12,
     "metadata": {},
     "output_type": "execute_result"
    }
   ],
   "source": [
    "fb_data[fb_data.Paid.isna()]"
   ]
  },
  {
   "cell_type": "code",
   "execution_count": 13,
   "metadata": {},
   "outputs": [
    {
     "data": {
      "text/plain": [
       "Paid\n",
       "0.0    544.5\n",
       "1.0    575.0\n",
       "Name: Lifetime Post Consumers, dtype: float64"
      ]
     },
     "execution_count": 13,
     "metadata": {},
     "output_type": "execute_result"
    }
   ],
   "source": [
    "fb_data.groupby('Paid')['Lifetime Post Consumers'].median()"
   ]
  },
  {
   "cell_type": "markdown",
   "metadata": {},
   "source": [
    "We will replace the missing Paid value with 0(unpaid) because its the most common and the LPC value is closest to mean/median of the unpaid group"
   ]
  },
  {
   "cell_type": "code",
   "execution_count": 14,
   "metadata": {},
   "outputs": [],
   "source": [
    "# Treatment\n",
    "fb_data.Paid.fillna(0, inplace=True)"
   ]
  },
  {
   "cell_type": "markdown",
   "metadata": {},
   "source": [
    " "
   ]
  },
  {
   "cell_type": "markdown",
   "metadata": {},
   "source": [
    "##### Outliers \n",
    "Looking at the distribution for LPC in the data profile, we can clearly see that there is an anomaly around."
   ]
  },
  {
   "cell_type": "code",
   "execution_count": 15,
   "metadata": {},
   "outputs": [
    {
     "data": {
      "image/png": "[encoded data removed]",
      "text/plain": [
       "<Figure size 576x396 with 1 Axes>"
      ]
     },
     "metadata": {},
     "output_type": "display_data"
    }
   ],
   "source": [
    "sns.distplot(fb_data['Lifetime Post Consumers'])\n",
    "plt.title('Lifetime Post Consumers distribution')\n",
    "plt.show()"
   ]
  },
  {
   "cell_type": "code",
   "execution_count": 16,
   "metadata": {},
   "outputs": [
    {
     "name": "stdout",
     "output_type": "stream",
     "text": [
      "The outlier cutoff value using the 90th percentile is 1601\n"
     ]
    }
   ],
   "source": [
    "lpc_outlier_cutoff = np.percentile(fb_data['Lifetime Post Consumers'],90)\n",
    "print(f'The outlier cutoff value using the 90th percentile is {int(lpc_outlier_cutoff)}')"
   ]
  },
  {
   "cell_type": "code",
   "execution_count": 17,
   "metadata": {},
   "outputs": [
    {
     "data": {
      "image/png": "[encoded data removed]",
      "text/plain": [
       "<Figure size 576x396 with 1 Axes>"
      ]
     },
     "metadata": {},
     "output_type": "display_data"
    }
   ],
   "source": [
    "sns.distplot(fb_data[fb_data['Lifetime Post Consumers']<lpc_outlier_cutoff]['Lifetime Post Consumers'])\n",
    "plt.title('Lifetime Post Consumers distribution with thresholding')\n",
    "plt.show()"
   ]
  },
  {
   "cell_type": "code",
   "execution_count": 18,
   "metadata": {},
   "outputs": [
    {
     "name": "stdout",
     "output_type": "stream",
     "text": [
      "Data shape before outlier cutoff (500, 8)\n",
      "Data shape after outlier cutoff (450, 8)\n"
     ]
    }
   ],
   "source": [
    "print(f'Data shape before outlier cutoff {fb_data.shape}')\n",
    "fb_data = fb_data[fb_data['Lifetime Post Consumers']<lpc_outlier_cutoff]\n",
    "print(f'Data shape after outlier cutoff {fb_data.shape}')"
   ]
  },
  {
   "cell_type": "markdown",
   "metadata": {},
   "source": [
    " "
   ]
  },
  {
   "cell_type": "markdown",
   "metadata": {},
   "source": [
    "##### Normalising skewed features"
   ]
  },
  {
   "cell_type": "code",
   "execution_count": 19,
   "metadata": {},
   "outputs": [
    {
     "data": {
      "text/plain": [
       "Page total likes          -0.995776\n",
       "Post Month                -0.111457\n",
       "Post Weekday              -0.069516\n",
       "Post Hour                  0.255260\n",
       "Paid                       1.045982\n",
       "Lifetime Post Consumers    0.840771\n",
       "dtype: float64"
      ]
     },
     "execution_count": 19,
     "metadata": {},
     "output_type": "execute_result"
    }
   ],
   "source": [
    "fb_data.skew()"
   ]
  },
  {
   "cell_type": "markdown",
   "metadata": {},
   "source": [
    "QQ plots\n",
    "- Lifetime Post Consumers [LPC]\n",
    "- Page total likes"
   ]
  },
  {
   "cell_type": "markdown",
   "metadata": {},
   "source": [
    "Lifetime Post Consumers"
   ]
  },
  {
   "cell_type": "code",
   "execution_count": 20,
   "metadata": {},
   "outputs": [
    {
     "data": {
      "image/png": "[encoded data removed]",
      "text/plain": [
       "<Figure size 576x396 with 2 Axes>"
      ]
     },
     "metadata": {},
     "output_type": "display_data"
    }
   ],
   "source": [
    "fig = plt.figure()\n",
    "ax1 = fig.add_subplot(121)\n",
    "prob = stats.probplot(fb_data['Lifetime Post Consumers'], dist=stats.norm, plot=ax1)\n",
    "ax1.set_xlabel('')\n",
    "ax1.set_title('LPC Probplot against normal distribution')\n",
    "\n",
    "ax2 = fig.add_subplot(122)\n",
    "_,lpc_lambda = stats.boxcox(fb_data['Lifetime Post Consumers'])\n",
    "lpc_norm = boxcox(fb_data['Lifetime Post Consumers'],lpc_lambda)\n",
    "prob = stats.probplot(lpc_norm, dist=stats.norm, plot=ax2)\n",
    "ax2.set_title('LPC Probplot after Box-Cox transformation')\n",
    "\n",
    "plt.show()"
   ]
  },
  {
   "cell_type": "markdown",
   "metadata": {},
   "source": [
    "Page total likes"
   ]
  },
  {
   "cell_type": "code",
   "execution_count": 21,
   "metadata": {},
   "outputs": [
    {
     "data": {
      "image/png": "[encoded data removed]",
      "text/plain": [
       "<Figure size 576x396 with 2 Axes>"
      ]
     },
     "metadata": {},
     "output_type": "display_data"
    }
   ],
   "source": [
    "fig = plt.figure()\n",
    "ax1 = fig.add_subplot(121)\n",
    "prob = stats.probplot(fb_data['Page total likes'], dist=stats.norm, plot=ax1)\n",
    "ax1.set_xlabel('')\n",
    "ax1.set_title('LPC Probplot against normal distribution')\n",
    "\n",
    "ax2 = fig.add_subplot(122)\n",
    "_, ptl_lambda = stats.boxcox(fb_data['Page total likes'])\n",
    "ptl_norm = boxcox(fb_data['Page total likes'],ptl_lambda)\n",
    "prob = stats.probplot(ptl_norm, dist=stats.norm, plot=ax2)\n",
    "ax2.set_title('LPC Probplot after Box-Cox transformation')\n",
    "\n",
    "plt.show()"
   ]
  },
  {
   "cell_type": "markdown",
   "metadata": {},
   "source": [
    "Applying the boxcox transformations improves the distribution of LPC but not that of the Page Total Likes. So we will transform the target variable only. "
   ]
  },
  {
   "cell_type": "code",
   "execution_count": 22,
   "metadata": {},
   "outputs": [],
   "source": [
    "fb_data['lpc_norm_trans'] = boxcox(fb_data['Lifetime Post Consumers'],lpc_lambda)"
   ]
  },
  {
   "cell_type": "markdown",
   "metadata": {},
   "source": [
    " "
   ]
  },
  {
   "cell_type": "markdown",
   "metadata": {},
   "source": [
    "##### Feature Scaling\n",
    "- page total likes"
   ]
  },
  {
   "cell_type": "code",
   "execution_count": 23,
   "metadata": {},
   "outputs": [
    {
     "data": {
      "text/html": [
       "<div>\n",
       "<style scoped>\n",
       "    .dataframe tbody tr th:only-of-type {\n",
       "        vertical-align: middle;\n",
       "    }\n",
       "\n",
       "    .dataframe tbody tr th {\n",
       "        vertical-align: top;\n",
       "    }\n",
       "\n",
       "    .dataframe thead th {\n",
       "        text-align: right;\n",
       "    }\n",
       "</style>\n",
       "<table border=\"1\" class=\"dataframe\">\n",
       "  <thead>\n",
       "    <tr style=\"text-align: right;\">\n",
       "      <th></th>\n",
       "      <th>Page total likes</th>\n",
       "      <th>Post Month</th>\n",
       "      <th>Post Weekday</th>\n",
       "      <th>Post Hour</th>\n",
       "      <th>Paid</th>\n",
       "      <th>Lifetime Post Consumers</th>\n",
       "      <th>lpc_norm_trans</th>\n",
       "    </tr>\n",
       "  </thead>\n",
       "  <tbody>\n",
       "    <tr>\n",
       "      <th>count</th>\n",
       "      <td>450.000000</td>\n",
       "      <td>450.000000</td>\n",
       "      <td>450.000000</td>\n",
       "      <td>450.000000</td>\n",
       "      <td>450.000000</td>\n",
       "      <td>450.000000</td>\n",
       "      <td>450.000000</td>\n",
       "    </tr>\n",
       "    <tr>\n",
       "      <th>mean</th>\n",
       "      <td>123342.308889</td>\n",
       "      <td>7.051111</td>\n",
       "      <td>4.097778</td>\n",
       "      <td>7.808889</td>\n",
       "      <td>0.268889</td>\n",
       "      <td>582.728889</td>\n",
       "      <td>31.693048</td>\n",
       "    </tr>\n",
       "    <tr>\n",
       "      <th>std</th>\n",
       "      <td>16044.519358</td>\n",
       "      <td>3.283157</td>\n",
       "      <td>2.035157</td>\n",
       "      <td>4.414888</td>\n",
       "      <td>0.443876</td>\n",
       "      <td>362.432935</td>\n",
       "      <td>9.826155</td>\n",
       "    </tr>\n",
       "    <tr>\n",
       "      <th>min</th>\n",
       "      <td>81370.000000</td>\n",
       "      <td>1.000000</td>\n",
       "      <td>1.000000</td>\n",
       "      <td>1.000000</td>\n",
       "      <td>0.000000</td>\n",
       "      <td>9.000000</td>\n",
       "      <td>3.652805</td>\n",
       "    </tr>\n",
       "    <tr>\n",
       "      <th>25%</th>\n",
       "      <td>113028.000000</td>\n",
       "      <td>4.000000</td>\n",
       "      <td>2.000000</td>\n",
       "      <td>3.000000</td>\n",
       "      <td>0.000000</td>\n",
       "      <td>319.000000</td>\n",
       "      <td>25.336696</td>\n",
       "    </tr>\n",
       "    <tr>\n",
       "      <th>50%</th>\n",
       "      <td>129600.000000</td>\n",
       "      <td>7.000000</td>\n",
       "      <td>4.000000</td>\n",
       "      <td>9.000000</td>\n",
       "      <td>0.000000</td>\n",
       "      <td>507.500000</td>\n",
       "      <td>31.437730</td>\n",
       "    </tr>\n",
       "    <tr>\n",
       "      <th>75%</th>\n",
       "      <td>136393.000000</td>\n",
       "      <td>10.000000</td>\n",
       "      <td>6.000000</td>\n",
       "      <td>11.000000</td>\n",
       "      <td>1.000000</td>\n",
       "      <td>741.500000</td>\n",
       "      <td>37.405542</td>\n",
       "    </tr>\n",
       "    <tr>\n",
       "      <th>max</th>\n",
       "      <td>139441.000000</td>\n",
       "      <td>12.000000</td>\n",
       "      <td>7.000000</td>\n",
       "      <td>23.000000</td>\n",
       "      <td>1.000000</td>\n",
       "      <td>1599.000000</td>\n",
       "      <td>52.930746</td>\n",
       "    </tr>\n",
       "  </tbody>\n",
       "</table>\n",
       "</div>"
      ],
      "text/plain": [
       "       Page total likes  Post Month  Post Weekday   Post Hour        Paid  \\\n",
       "count        450.000000  450.000000    450.000000  450.000000  450.000000   \n",
       "mean      123342.308889    7.051111      4.097778    7.808889    0.268889   \n",
       "std        16044.519358    3.283157      2.035157    4.414888    0.443876   \n",
       "min        81370.000000    1.000000      1.000000    1.000000    0.000000   \n",
       "25%       113028.000000    4.000000      2.000000    3.000000    0.000000   \n",
       "50%       129600.000000    7.000000      4.000000    9.000000    0.000000   \n",
       "75%       136393.000000   10.000000      6.000000   11.000000    1.000000   \n",
       "max       139441.000000   12.000000      7.000000   23.000000    1.000000   \n",
       "\n",
       "       Lifetime Post Consumers  lpc_norm_trans  \n",
       "count               450.000000      450.000000  \n",
       "mean                582.728889       31.693048  \n",
       "std                 362.432935        9.826155  \n",
       "min                   9.000000        3.652805  \n",
       "25%                 319.000000       25.336696  \n",
       "50%                 507.500000       31.437730  \n",
       "75%                 741.500000       37.405542  \n",
       "max                1599.000000       52.930746  "
      ]
     },
     "execution_count": 23,
     "metadata": {},
     "output_type": "execute_result"
    }
   ],
   "source": [
    "fb_data.describe()"
   ]
  },
  {
   "cell_type": "markdown",
   "metadata": {},
   "source": [
    "Because this is a regression problem when using models which optimise distance such as linear regression we need to try and ensure that all features are on similar scales. \n",
    "I chose the min_max scaler instead of standardisation because even though the 'page total likes' is a countinous feature, there seems to be clear groupings."
   ]
  },
  {
   "cell_type": "code",
   "execution_count": 24,
   "metadata": {},
   "outputs": [],
   "source": [
    "min_max_scaler = MinMaxScaler()"
   ]
  },
  {
   "cell_type": "code",
   "execution_count": 25,
   "metadata": {},
   "outputs": [],
   "source": [
    "fb_data['Page_total_likes_minmax'] = min_max_scaler.fit_transform(fb_data[['Page total likes']].values)"
   ]
  },
  {
   "cell_type": "markdown",
   "metadata": {},
   "source": [
    " "
   ]
  },
  {
   "cell_type": "markdown",
   "metadata": {},
   "source": [
    "##### Categories to numerics"
   ]
  },
  {
   "cell_type": "code",
   "execution_count": 26,
   "metadata": {},
   "outputs": [],
   "source": [
    "onehot = OneHotEncoder(dtype=np.int, sparse=False,handle_unknown='error')"
   ]
  },
  {
   "cell_type": "code",
   "execution_count": 27,
   "metadata": {},
   "outputs": [],
   "source": [
    "cat_df = fb_data[['Category','Type','Post Month','Post Weekday','Post Hour','Paid']].astype(object)\n",
    "categorical_array = onehot.fit_transform(cat_df)"
   ]
  },
  {
   "cell_type": "code",
   "execution_count": 28,
   "metadata": {},
   "outputs": [
    {
     "data": {
      "text/plain": [
       "array(['x0_action', 'x0_inspiration', 'x0_product', 'x1_Link', 'x1_Photo',\n",
       "       'x1_Status', 'x1_Video', 'x2_1', 'x2_2', 'x2_3', 'x2_4', 'x2_5',\n",
       "       'x2_6', 'x2_7', 'x2_8', 'x2_9', 'x2_10', 'x2_11', 'x2_12', 'x3_1',\n",
       "       'x3_2', 'x3_3', 'x3_4', 'x3_5', 'x3_6', 'x3_7', 'x4_1', 'x4_2',\n",
       "       'x4_3', 'x4_4', 'x4_5', 'x4_6', 'x4_7', 'x4_8', 'x4_9', 'x4_10',\n",
       "       'x4_11', 'x4_12', 'x4_13', 'x4_14', 'x4_15', 'x4_16', 'x4_17',\n",
       "       'x4_18', 'x4_19', 'x4_20', 'x4_22', 'x4_23', 'x5_0.0', 'x5_1.0'],\n",
       "      dtype=object)"
      ]
     },
     "execution_count": 28,
     "metadata": {},
     "output_type": "execute_result"
    }
   ],
   "source": [
    "ohe_feats = onehot.get_feature_names()\n",
    "ohe_feats"
   ]
  },
  {
   "cell_type": "code",
   "execution_count": 29,
   "metadata": {},
   "outputs": [
    {
     "data": {
      "text/plain": [
       "{'x0': 'Category',\n",
       " 'x1': 'Type',\n",
       " 'x2': 'Post Month',\n",
       " 'x3': 'Post Weekday',\n",
       " 'x4': 'Post Hour',\n",
       " 'x5': 'Paid'}"
      ]
     },
     "execution_count": 29,
     "metadata": {},
     "output_type": "execute_result"
    }
   ],
   "source": [
    "ohe_prefix = [f'x{i}' for i in range(cat_df.shape[1])]\n",
    "onehot_column_mappings = dict(zip(ohe_prefix,cat_df.columns.to_list()))\n",
    "onehot_column_mappings"
   ]
  },
  {
   "cell_type": "code",
   "execution_count": 30,
   "metadata": {},
   "outputs": [],
   "source": [
    "ohe_feats_names = [] \n",
    "for name in ohe_feats:\n",
    "    prefix = name.split('_')[0]\n",
    "    if prefix in onehot_column_mappings:\n",
    "        ohe_feats_names.append(name.replace(prefix,onehot_column_mappings[prefix]))"
   ]
  },
  {
   "cell_type": "code",
   "execution_count": 31,
   "metadata": {},
   "outputs": [
    {
     "data": {
      "text/html": [
       "<div>\n",
       "<style scoped>\n",
       "    .dataframe tbody tr th:only-of-type {\n",
       "        vertical-align: middle;\n",
       "    }\n",
       "\n",
       "    .dataframe tbody tr th {\n",
       "        vertical-align: top;\n",
       "    }\n",
       "\n",
       "    .dataframe thead th {\n",
       "        text-align: right;\n",
       "    }\n",
       "</style>\n",
       "<table border=\"1\" class=\"dataframe\">\n",
       "  <thead>\n",
       "    <tr style=\"text-align: right;\">\n",
       "      <th></th>\n",
       "      <th>Category_action</th>\n",
       "      <th>Category_inspiration</th>\n",
       "      <th>Category_product</th>\n",
       "      <th>Type_Link</th>\n",
       "      <th>Type_Photo</th>\n",
       "      <th>Type_Status</th>\n",
       "      <th>Type_Video</th>\n",
       "      <th>Post Month_1</th>\n",
       "      <th>Post Month_2</th>\n",
       "      <th>Post Month_3</th>\n",
       "      <th>...</th>\n",
       "      <th>Post Hour_15</th>\n",
       "      <th>Post Hour_16</th>\n",
       "      <th>Post Hour_17</th>\n",
       "      <th>Post Hour_18</th>\n",
       "      <th>Post Hour_19</th>\n",
       "      <th>Post Hour_20</th>\n",
       "      <th>Post Hour_22</th>\n",
       "      <th>Post Hour_23</th>\n",
       "      <th>Paid_0.0</th>\n",
       "      <th>Paid_1.0</th>\n",
       "    </tr>\n",
       "  </thead>\n",
       "  <tbody>\n",
       "    <tr>\n",
       "      <th>0</th>\n",
       "      <td>0</td>\n",
       "      <td>0</td>\n",
       "      <td>1</td>\n",
       "      <td>0</td>\n",
       "      <td>1</td>\n",
       "      <td>0</td>\n",
       "      <td>0</td>\n",
       "      <td>0</td>\n",
       "      <td>0</td>\n",
       "      <td>0</td>\n",
       "      <td>...</td>\n",
       "      <td>0</td>\n",
       "      <td>0</td>\n",
       "      <td>0</td>\n",
       "      <td>0</td>\n",
       "      <td>0</td>\n",
       "      <td>0</td>\n",
       "      <td>0</td>\n",
       "      <td>0</td>\n",
       "      <td>1</td>\n",
       "      <td>0</td>\n",
       "    </tr>\n",
       "    <tr>\n",
       "      <th>1</th>\n",
       "      <td>0</td>\n",
       "      <td>0</td>\n",
       "      <td>1</td>\n",
       "      <td>0</td>\n",
       "      <td>0</td>\n",
       "      <td>1</td>\n",
       "      <td>0</td>\n",
       "      <td>0</td>\n",
       "      <td>0</td>\n",
       "      <td>0</td>\n",
       "      <td>...</td>\n",
       "      <td>0</td>\n",
       "      <td>0</td>\n",
       "      <td>0</td>\n",
       "      <td>0</td>\n",
       "      <td>0</td>\n",
       "      <td>0</td>\n",
       "      <td>0</td>\n",
       "      <td>0</td>\n",
       "      <td>1</td>\n",
       "      <td>0</td>\n",
       "    </tr>\n",
       "    <tr>\n",
       "      <th>2</th>\n",
       "      <td>0</td>\n",
       "      <td>1</td>\n",
       "      <td>0</td>\n",
       "      <td>0</td>\n",
       "      <td>1</td>\n",
       "      <td>0</td>\n",
       "      <td>0</td>\n",
       "      <td>0</td>\n",
       "      <td>0</td>\n",
       "      <td>0</td>\n",
       "      <td>...</td>\n",
       "      <td>0</td>\n",
       "      <td>0</td>\n",
       "      <td>0</td>\n",
       "      <td>0</td>\n",
       "      <td>0</td>\n",
       "      <td>0</td>\n",
       "      <td>0</td>\n",
       "      <td>0</td>\n",
       "      <td>1</td>\n",
       "      <td>0</td>\n",
       "    </tr>\n",
       "    <tr>\n",
       "      <th>3</th>\n",
       "      <td>0</td>\n",
       "      <td>0</td>\n",
       "      <td>1</td>\n",
       "      <td>0</td>\n",
       "      <td>1</td>\n",
       "      <td>0</td>\n",
       "      <td>0</td>\n",
       "      <td>0</td>\n",
       "      <td>0</td>\n",
       "      <td>0</td>\n",
       "      <td>...</td>\n",
       "      <td>0</td>\n",
       "      <td>0</td>\n",
       "      <td>0</td>\n",
       "      <td>0</td>\n",
       "      <td>0</td>\n",
       "      <td>0</td>\n",
       "      <td>0</td>\n",
       "      <td>0</td>\n",
       "      <td>0</td>\n",
       "      <td>1</td>\n",
       "    </tr>\n",
       "    <tr>\n",
       "      <th>4</th>\n",
       "      <td>0</td>\n",
       "      <td>0</td>\n",
       "      <td>1</td>\n",
       "      <td>0</td>\n",
       "      <td>1</td>\n",
       "      <td>0</td>\n",
       "      <td>0</td>\n",
       "      <td>0</td>\n",
       "      <td>0</td>\n",
       "      <td>0</td>\n",
       "      <td>...</td>\n",
       "      <td>0</td>\n",
       "      <td>0</td>\n",
       "      <td>0</td>\n",
       "      <td>0</td>\n",
       "      <td>0</td>\n",
       "      <td>0</td>\n",
       "      <td>0</td>\n",
       "      <td>0</td>\n",
       "      <td>1</td>\n",
       "      <td>0</td>\n",
       "    </tr>\n",
       "  </tbody>\n",
       "</table>\n",
       "<p>5 rows × 50 columns</p>\n",
       "</div>"
      ],
      "text/plain": [
       "   Category_action  Category_inspiration  Category_product  Type_Link  \\\n",
       "0                0                     0                 1          0   \n",
       "1                0                     0                 1          0   \n",
       "2                0                     1                 0          0   \n",
       "3                0                     0                 1          0   \n",
       "4                0                     0                 1          0   \n",
       "\n",
       "   Type_Photo  Type_Status  Type_Video  Post Month_1  Post Month_2  \\\n",
       "0           1            0           0             0             0   \n",
       "1           0            1           0             0             0   \n",
       "2           1            0           0             0             0   \n",
       "3           1            0           0             0             0   \n",
       "4           1            0           0             0             0   \n",
       "\n",
       "   Post Month_3  ...  Post Hour_15  Post Hour_16  Post Hour_17  Post Hour_18  \\\n",
       "0             0  ...             0             0             0             0   \n",
       "1             0  ...             0             0             0             0   \n",
       "2             0  ...             0             0             0             0   \n",
       "3             0  ...             0             0             0             0   \n",
       "4             0  ...             0             0             0             0   \n",
       "\n",
       "   Post Hour_19  Post Hour_20  Post Hour_22  Post Hour_23  Paid_0.0  Paid_1.0  \n",
       "0             0             0             0             0         1         0  \n",
       "1             0             0             0             0         1         0  \n",
       "2             0             0             0             0         1         0  \n",
       "3             0             0             0             0         0         1  \n",
       "4             0             0             0             0         1         0  \n",
       "\n",
       "[5 rows x 50 columns]"
      ]
     },
     "execution_count": 31,
     "metadata": {},
     "output_type": "execute_result"
    }
   ],
   "source": [
    "categorical_df = pd.DataFrame(categorical_array,columns=ohe_feats_names)\n",
    "categorical_df.head()"
   ]
  },
  {
   "cell_type": "code",
   "execution_count": 32,
   "metadata": {},
   "outputs": [
    {
     "data": {
      "text/plain": [
       "(450, 6)"
      ]
     },
     "execution_count": 32,
     "metadata": {},
     "output_type": "execute_result"
    }
   ],
   "source": [
    "cat_df.shape"
   ]
  },
  {
   "cell_type": "code",
   "execution_count": 33,
   "metadata": {},
   "outputs": [
    {
     "data": {
      "text/plain": [
       "(450, 50)"
      ]
     },
     "execution_count": 33,
     "metadata": {},
     "output_type": "execute_result"
    }
   ],
   "source": [
    "categorical_df.shape"
   ]
  },
  {
   "cell_type": "code",
   "execution_count": 34,
   "metadata": {},
   "outputs": [],
   "source": [
    "X = categorical_df\n",
    "X['Page_total_likes_minmax'] = fb_data.Page_total_likes_minmax.values\n",
    "X['lpc_norm_trans'] = fb_data.lpc_norm_trans.values"
   ]
  },
  {
   "cell_type": "code",
   "execution_count": 35,
   "metadata": {},
   "outputs": [
    {
     "data": {
      "text/plain": [
       "(450, 52)"
      ]
     },
     "execution_count": 35,
     "metadata": {},
     "output_type": "execute_result"
    }
   ],
   "source": [
    "X.shape"
   ]
  },
  {
   "cell_type": "markdown",
   "metadata": {},
   "source": [
    "#### 6. Modelling"
   ]
  },
  {
   "cell_type": "code",
   "execution_count": 36,
   "metadata": {},
   "outputs": [],
   "source": [
    "y = X.pop('lpc_norm_trans')"
   ]
  },
  {
   "cell_type": "code",
   "execution_count": 37,
   "metadata": {},
   "outputs": [
    {
     "data": {
      "text/html": [
       "<div>\n",
       "<style scoped>\n",
       "    .dataframe tbody tr th:only-of-type {\n",
       "        vertical-align: middle;\n",
       "    }\n",
       "\n",
       "    .dataframe tbody tr th {\n",
       "        vertical-align: top;\n",
       "    }\n",
       "\n",
       "    .dataframe thead th {\n",
       "        text-align: right;\n",
       "    }\n",
       "</style>\n",
       "<table border=\"1\" class=\"dataframe\">\n",
       "  <thead>\n",
       "    <tr style=\"text-align: right;\">\n",
       "      <th></th>\n",
       "      <th>Category_action</th>\n",
       "      <th>Category_inspiration</th>\n",
       "      <th>Category_product</th>\n",
       "      <th>Type_Link</th>\n",
       "      <th>Type_Photo</th>\n",
       "      <th>Type_Status</th>\n",
       "      <th>Type_Video</th>\n",
       "      <th>Post Month_1</th>\n",
       "      <th>Post Month_2</th>\n",
       "      <th>Post Month_3</th>\n",
       "      <th>...</th>\n",
       "      <th>Post Hour_16</th>\n",
       "      <th>Post Hour_17</th>\n",
       "      <th>Post Hour_18</th>\n",
       "      <th>Post Hour_19</th>\n",
       "      <th>Post Hour_20</th>\n",
       "      <th>Post Hour_22</th>\n",
       "      <th>Post Hour_23</th>\n",
       "      <th>Paid_0.0</th>\n",
       "      <th>Paid_1.0</th>\n",
       "      <th>Page_total_likes_minmax</th>\n",
       "    </tr>\n",
       "  </thead>\n",
       "  <tbody>\n",
       "    <tr>\n",
       "      <th>0</th>\n",
       "      <td>0</td>\n",
       "      <td>0</td>\n",
       "      <td>1</td>\n",
       "      <td>0</td>\n",
       "      <td>1</td>\n",
       "      <td>0</td>\n",
       "      <td>0</td>\n",
       "      <td>0</td>\n",
       "      <td>0</td>\n",
       "      <td>0</td>\n",
       "      <td>...</td>\n",
       "      <td>0</td>\n",
       "      <td>0</td>\n",
       "      <td>0</td>\n",
       "      <td>0</td>\n",
       "      <td>0</td>\n",
       "      <td>0</td>\n",
       "      <td>0</td>\n",
       "      <td>1</td>\n",
       "      <td>0</td>\n",
       "      <td>1.0</td>\n",
       "    </tr>\n",
       "    <tr>\n",
       "      <th>1</th>\n",
       "      <td>0</td>\n",
       "      <td>0</td>\n",
       "      <td>1</td>\n",
       "      <td>0</td>\n",
       "      <td>0</td>\n",
       "      <td>1</td>\n",
       "      <td>0</td>\n",
       "      <td>0</td>\n",
       "      <td>0</td>\n",
       "      <td>0</td>\n",
       "      <td>...</td>\n",
       "      <td>0</td>\n",
       "      <td>0</td>\n",
       "      <td>0</td>\n",
       "      <td>0</td>\n",
       "      <td>0</td>\n",
       "      <td>0</td>\n",
       "      <td>0</td>\n",
       "      <td>1</td>\n",
       "      <td>0</td>\n",
       "      <td>1.0</td>\n",
       "    </tr>\n",
       "    <tr>\n",
       "      <th>2</th>\n",
       "      <td>0</td>\n",
       "      <td>1</td>\n",
       "      <td>0</td>\n",
       "      <td>0</td>\n",
       "      <td>1</td>\n",
       "      <td>0</td>\n",
       "      <td>0</td>\n",
       "      <td>0</td>\n",
       "      <td>0</td>\n",
       "      <td>0</td>\n",
       "      <td>...</td>\n",
       "      <td>0</td>\n",
       "      <td>0</td>\n",
       "      <td>0</td>\n",
       "      <td>0</td>\n",
       "      <td>0</td>\n",
       "      <td>0</td>\n",
       "      <td>0</td>\n",
       "      <td>1</td>\n",
       "      <td>0</td>\n",
       "      <td>1.0</td>\n",
       "    </tr>\n",
       "    <tr>\n",
       "      <th>3</th>\n",
       "      <td>0</td>\n",
       "      <td>0</td>\n",
       "      <td>1</td>\n",
       "      <td>0</td>\n",
       "      <td>1</td>\n",
       "      <td>0</td>\n",
       "      <td>0</td>\n",
       "      <td>0</td>\n",
       "      <td>0</td>\n",
       "      <td>0</td>\n",
       "      <td>...</td>\n",
       "      <td>0</td>\n",
       "      <td>0</td>\n",
       "      <td>0</td>\n",
       "      <td>0</td>\n",
       "      <td>0</td>\n",
       "      <td>0</td>\n",
       "      <td>0</td>\n",
       "      <td>0</td>\n",
       "      <td>1</td>\n",
       "      <td>1.0</td>\n",
       "    </tr>\n",
       "    <tr>\n",
       "      <th>4</th>\n",
       "      <td>0</td>\n",
       "      <td>0</td>\n",
       "      <td>1</td>\n",
       "      <td>0</td>\n",
       "      <td>1</td>\n",
       "      <td>0</td>\n",
       "      <td>0</td>\n",
       "      <td>0</td>\n",
       "      <td>0</td>\n",
       "      <td>0</td>\n",
       "      <td>...</td>\n",
       "      <td>0</td>\n",
       "      <td>0</td>\n",
       "      <td>0</td>\n",
       "      <td>0</td>\n",
       "      <td>0</td>\n",
       "      <td>0</td>\n",
       "      <td>0</td>\n",
       "      <td>1</td>\n",
       "      <td>0</td>\n",
       "      <td>1.0</td>\n",
       "    </tr>\n",
       "  </tbody>\n",
       "</table>\n",
       "<p>5 rows × 51 columns</p>\n",
       "</div>"
      ],
      "text/plain": [
       "   Category_action  Category_inspiration  Category_product  Type_Link  \\\n",
       "0                0                     0                 1          0   \n",
       "1                0                     0                 1          0   \n",
       "2                0                     1                 0          0   \n",
       "3                0                     0                 1          0   \n",
       "4                0                     0                 1          0   \n",
       "\n",
       "   Type_Photo  Type_Status  Type_Video  Post Month_1  Post Month_2  \\\n",
       "0           1            0           0             0             0   \n",
       "1           0            1           0             0             0   \n",
       "2           1            0           0             0             0   \n",
       "3           1            0           0             0             0   \n",
       "4           1            0           0             0             0   \n",
       "\n",
       "   Post Month_3  ...  Post Hour_16  Post Hour_17  Post Hour_18  Post Hour_19  \\\n",
       "0             0  ...             0             0             0             0   \n",
       "1             0  ...             0             0             0             0   \n",
       "2             0  ...             0             0             0             0   \n",
       "3             0  ...             0             0             0             0   \n",
       "4             0  ...             0             0             0             0   \n",
       "\n",
       "   Post Hour_20  Post Hour_22  Post Hour_23  Paid_0.0  Paid_1.0  \\\n",
       "0             0             0             0         1         0   \n",
       "1             0             0             0         1         0   \n",
       "2             0             0             0         1         0   \n",
       "3             0             0             0         0         1   \n",
       "4             0             0             0         1         0   \n",
       "\n",
       "   Page_total_likes_minmax  \n",
       "0                      1.0  \n",
       "1                      1.0  \n",
       "2                      1.0  \n",
       "3                      1.0  \n",
       "4                      1.0  \n",
       "\n",
       "[5 rows x 51 columns]"
      ]
     },
     "execution_count": 37,
     "metadata": {},
     "output_type": "execute_result"
    }
   ],
   "source": [
    "X.head()"
   ]
  },
  {
   "cell_type": "markdown",
   "metadata": {},
   "source": [
    "##### Train test split"
   ]
  },
  {
   "cell_type": "code",
   "execution_count": 38,
   "metadata": {},
   "outputs": [],
   "source": [
    "X_train, X_test, y_train, y_test = train_test_split(X, y, test_size=0.20, random_state=42)"
   ]
  },
  {
   "cell_type": "markdown",
   "metadata": {},
   "source": [
    "##### GridSearch"
   ]
  },
  {
   "cell_type": "code",
   "execution_count": 39,
   "metadata": {},
   "outputs": [],
   "source": [
    "models = {\n",
    "    'LinearRegression': LinearRegression(),\n",
    "    'RandomForestRegressor': RandomForestRegressor(random_state=123),\n",
    "    'ElasticNet': ElasticNet(random_state=123),\n",
    "    'GradientBoostingRegressor': GradientBoostingRegressor(random_state=123),\n",
    "    'SVR': SVR()\n",
    "}\n",
    "\n",
    "params = {\n",
    "    'LinearRegression': {},\n",
    "    'RandomForestRegressor': { 'n_estimators': [100, 300,500],'max_features':[2,5,7]},\n",
    "    'ElasticNet':  {'l1_ratio':[0.5,0.7]},\n",
    "    'GradientBoostingRegressor': { 'n_estimators': [100, 300,500], 'learning_rate': [0.8, 1.0] },\n",
    "    'SVR': [\n",
    "        {'kernel': ['linear'], 'C': [1, 10]},\n",
    "        {'kernel': ['rbf'], 'C': [1, 10], 'gamma': [0.001, 0.0001]},\n",
    "    ]\n",
    "}\n"
   ]
  },
  {
   "cell_type": "code",
   "execution_count": 40,
   "metadata": {},
   "outputs": [],
   "source": [
    "class EstimatorSelectionHelper:\n",
    "\n",
    "    def __init__(self, models, params):\n",
    "        self.models = models\n",
    "        self.params = params\n",
    "        self.names = models.keys()\n",
    "        self.grid_searches = {}\n",
    "\n",
    "    def fit(self, X, y, cv=3, n_jobs=3, verbose=1, scoring=None, refit=False):\n",
    "        for name in self.names:\n",
    "            print(\"Running GridSearchCV for %s.\" % name)\n",
    "            model = self.models[name]\n",
    "            params = self.params[name]\n",
    "            gs = GridSearchCV(model, params, cv=cv, n_jobs=n_jobs,\n",
    "                              verbose=verbose, scoring=scoring, refit=refit,\n",
    "                              return_train_score=True)\n",
    "            gs.fit(X,y)\n",
    "            self.grid_searches[name] = gs    \n",
    "\n",
    "    def score_summary(self, sort_by='mean_score'):\n",
    "        def row(name, scores, params):\n",
    "            d = {\n",
    "                 'estimator': name,\n",
    "                 'min_score': min(scores),\n",
    "                 'max_score': max(scores),\n",
    "                 'mean_score': np.mean(scores),\n",
    "                 'std_score': np.std(scores),\n",
    "            }\n",
    "            return pd.Series({**params,**d})\n",
    "\n",
    "        rows = []\n",
    "        best_models = {}\n",
    "        for k in self.grid_searches:\n",
    "            print(k)\n",
    "            params = self.grid_searches[k].cv_results_['params']\n",
    "            scores = []\n",
    "            for i in range(self.grid_searches[k].cv):\n",
    "                name = \"split{}_test_score\".format(i)\n",
    "                r = self.grid_searches[k].cv_results_[name]        \n",
    "                scores.append(r.reshape(len(params),1))\n",
    "\n",
    "            all_scores = np.hstack(scores)\n",
    "            for p, s in zip(params,all_scores):\n",
    "                rows.append((row(k, s, p)))\n",
    "                \n",
    "            best_models[k] = self.grid_searches[k]\n",
    "\n",
    "        df = pd.concat(rows, axis=1).T.sort_values([sort_by], ascending=False)\n",
    "\n",
    "        columns = ['estimator', 'min_score', 'mean_score', 'max_score', 'std_score']\n",
    "        columns = columns + [c for c in df.columns if c not in columns]\n",
    "    \n",
    "        return df[columns], best_models"
   ]
  },
  {
   "cell_type": "code",
   "execution_count": 41,
   "metadata": {},
   "outputs": [
    {
     "name": "stdout",
     "output_type": "stream",
     "text": [
      "Running GridSearchCV for LinearRegression.\n",
      "Fitting 3 folds for each of 1 candidates, totalling 3 fits\n"
     ]
    },
    {
     "name": "stderr",
     "output_type": "stream",
     "text": [
      "[Parallel(n_jobs=-1)]: Using backend LokyBackend with 4 concurrent workers.\n",
      "[Parallel(n_jobs=-1)]: Done   3 out of   3 | elapsed:    3.0s finished\n",
      "[Parallel(n_jobs=-1)]: Using backend LokyBackend with 4 concurrent workers.\n"
     ]
    },
    {
     "name": "stdout",
     "output_type": "stream",
     "text": [
      "Running GridSearchCV for RandomForestRegressor.\n",
      "Fitting 3 folds for each of 9 candidates, totalling 27 fits\n"
     ]
    },
    {
     "name": "stderr",
     "output_type": "stream",
     "text": [
      "[Parallel(n_jobs=-1)]: Done  27 out of  27 | elapsed:   11.0s finished\n"
     ]
    },
    {
     "name": "stdout",
     "output_type": "stream",
     "text": [
      "Running GridSearchCV for ElasticNet.\n",
      "Fitting 3 folds for each of 2 candidates, totalling 6 fits\n",
      "Running GridSearchCV for GradientBoostingRegressor.\n",
      "Fitting 3 folds for each of 6 candidates, totalling 18 fits\n"
     ]
    },
    {
     "name": "stderr",
     "output_type": "stream",
     "text": [
      "[Parallel(n_jobs=-1)]: Using backend LokyBackend with 4 concurrent workers.\n",
      "[Parallel(n_jobs=-1)]: Done   6 out of   6 | elapsed:    0.1s remaining:    0.0s\n",
      "[Parallel(n_jobs=-1)]: Done   6 out of   6 | elapsed:    0.1s finished\n",
      "[Parallel(n_jobs=-1)]: Using backend LokyBackend with 4 concurrent workers.\n",
      "[Parallel(n_jobs=-1)]: Done  18 out of  18 | elapsed:    2.2s finished\n"
     ]
    },
    {
     "name": "stdout",
     "output_type": "stream",
     "text": [
      "Running GridSearchCV for SVR.\n",
      "Fitting 3 folds for each of 6 candidates, totalling 18 fits\n"
     ]
    },
    {
     "name": "stderr",
     "output_type": "stream",
     "text": [
      "[Parallel(n_jobs=-1)]: Using backend LokyBackend with 4 concurrent workers.\n",
      "[Parallel(n_jobs=-1)]: Done  18 out of  18 | elapsed:    0.2s finished\n"
     ]
    }
   ],
   "source": [
    "helper1 = EstimatorSelectionHelper(models, params)\n",
    "helper1.fit(X_train, y_train, scoring='neg_median_absolute_error', refit=True,n_jobs=-1)"
   ]
  },
  {
   "cell_type": "code",
   "execution_count": 42,
   "metadata": {},
   "outputs": [
    {
     "name": "stdout",
     "output_type": "stream",
     "text": [
      "LinearRegression\n",
      "RandomForestRegressor\n",
      "ElasticNet\n",
      "GradientBoostingRegressor\n",
      "SVR\n"
     ]
    },
    {
     "data": {
      "text/html": [
       "<div>\n",
       "<style scoped>\n",
       "    .dataframe tbody tr th:only-of-type {\n",
       "        vertical-align: middle;\n",
       "    }\n",
       "\n",
       "    .dataframe tbody tr th {\n",
       "        vertical-align: top;\n",
       "    }\n",
       "\n",
       "    .dataframe thead th {\n",
       "        text-align: right;\n",
       "    }\n",
       "</style>\n",
       "<table border=\"1\" class=\"dataframe\">\n",
       "  <thead>\n",
       "    <tr style=\"text-align: right;\">\n",
       "      <th></th>\n",
       "      <th>estimator</th>\n",
       "      <th>min_score</th>\n",
       "      <th>mean_score</th>\n",
       "      <th>max_score</th>\n",
       "      <th>std_score</th>\n",
       "      <th>max_features</th>\n",
       "      <th>n_estimators</th>\n",
       "      <th>l1_ratio</th>\n",
       "      <th>learning_rate</th>\n",
       "      <th>C</th>\n",
       "      <th>kernel</th>\n",
       "      <th>gamma</th>\n",
       "    </tr>\n",
       "  </thead>\n",
       "  <tbody>\n",
       "    <tr>\n",
       "      <th>19</th>\n",
       "      <td>SVR</td>\n",
       "      <td>-3.96015</td>\n",
       "      <td>-3.63692</td>\n",
       "      <td>-3.31182</td>\n",
       "      <td>0.264679</td>\n",
       "      <td>NaN</td>\n",
       "      <td>NaN</td>\n",
       "      <td>NaN</td>\n",
       "      <td>NaN</td>\n",
       "      <td>10</td>\n",
       "      <td>linear</td>\n",
       "      <td>NaN</td>\n",
       "    </tr>\n",
       "    <tr>\n",
       "      <th>4</th>\n",
       "      <td>RandomForestRegressor</td>\n",
       "      <td>-4.71273</td>\n",
       "      <td>-4.02048</td>\n",
       "      <td>-3.43271</td>\n",
       "      <td>0.527764</td>\n",
       "      <td>5</td>\n",
       "      <td>100</td>\n",
       "      <td>NaN</td>\n",
       "      <td>NaN</td>\n",
       "      <td>NaN</td>\n",
       "      <td>NaN</td>\n",
       "      <td>NaN</td>\n",
       "    </tr>\n",
       "    <tr>\n",
       "      <th>18</th>\n",
       "      <td>SVR</td>\n",
       "      <td>-3.98891</td>\n",
       "      <td>-3.76299</td>\n",
       "      <td>-3.6079</td>\n",
       "      <td>0.163414</td>\n",
       "      <td>NaN</td>\n",
       "      <td>NaN</td>\n",
       "      <td>NaN</td>\n",
       "      <td>NaN</td>\n",
       "      <td>1</td>\n",
       "      <td>linear</td>\n",
       "      <td>NaN</td>\n",
       "    </tr>\n",
       "    <tr>\n",
       "      <th>9</th>\n",
       "      <td>RandomForestRegressor</td>\n",
       "      <td>-4.4722</td>\n",
       "      <td>-4.03114</td>\n",
       "      <td>-3.673</td>\n",
       "      <td>0.331498</td>\n",
       "      <td>7</td>\n",
       "      <td>500</td>\n",
       "      <td>NaN</td>\n",
       "      <td>NaN</td>\n",
       "      <td>NaN</td>\n",
       "      <td>NaN</td>\n",
       "      <td>NaN</td>\n",
       "    </tr>\n",
       "    <tr>\n",
       "      <th>8</th>\n",
       "      <td>RandomForestRegressor</td>\n",
       "      <td>-4.54418</td>\n",
       "      <td>-4.06222</td>\n",
       "      <td>-3.81857</td>\n",
       "      <td>0.340803</td>\n",
       "      <td>7</td>\n",
       "      <td>300</td>\n",
       "      <td>NaN</td>\n",
       "      <td>NaN</td>\n",
       "      <td>NaN</td>\n",
       "      <td>NaN</td>\n",
       "      <td>NaN</td>\n",
       "    </tr>\n",
       "    <tr>\n",
       "      <th>5</th>\n",
       "      <td>RandomForestRegressor</td>\n",
       "      <td>-4.53298</td>\n",
       "      <td>-4.11924</td>\n",
       "      <td>-3.88598</td>\n",
       "      <td>0.293355</td>\n",
       "      <td>5</td>\n",
       "      <td>300</td>\n",
       "      <td>NaN</td>\n",
       "      <td>NaN</td>\n",
       "      <td>NaN</td>\n",
       "      <td>NaN</td>\n",
       "      <td>NaN</td>\n",
       "    </tr>\n",
       "    <tr>\n",
       "      <th>6</th>\n",
       "      <td>RandomForestRegressor</td>\n",
       "      <td>-4.64477</td>\n",
       "      <td>-4.16186</td>\n",
       "      <td>-3.90657</td>\n",
       "      <td>0.341657</td>\n",
       "      <td>5</td>\n",
       "      <td>500</td>\n",
       "      <td>NaN</td>\n",
       "      <td>NaN</td>\n",
       "      <td>NaN</td>\n",
       "      <td>NaN</td>\n",
       "      <td>NaN</td>\n",
       "    </tr>\n",
       "    <tr>\n",
       "      <th>7</th>\n",
       "      <td>RandomForestRegressor</td>\n",
       "      <td>-4.42101</td>\n",
       "      <td>-4.15914</td>\n",
       "      <td>-3.9769</td>\n",
       "      <td>0.189848</td>\n",
       "      <td>7</td>\n",
       "      <td>100</td>\n",
       "      <td>NaN</td>\n",
       "      <td>NaN</td>\n",
       "      <td>NaN</td>\n",
       "      <td>NaN</td>\n",
       "      <td>NaN</td>\n",
       "    </tr>\n",
       "    <tr>\n",
       "      <th>3</th>\n",
       "      <td>RandomForestRegressor</td>\n",
       "      <td>-4.76145</td>\n",
       "      <td>-4.36466</td>\n",
       "      <td>-4.01697</td>\n",
       "      <td>0.305909</td>\n",
       "      <td>2</td>\n",
       "      <td>500</td>\n",
       "      <td>NaN</td>\n",
       "      <td>NaN</td>\n",
       "      <td>NaN</td>\n",
       "      <td>NaN</td>\n",
       "      <td>NaN</td>\n",
       "    </tr>\n",
       "    <tr>\n",
       "      <th>1</th>\n",
       "      <td>RandomForestRegressor</td>\n",
       "      <td>-4.7808</td>\n",
       "      <td>-4.30608</td>\n",
       "      <td>-4.02175</td>\n",
       "      <td>0.337859</td>\n",
       "      <td>2</td>\n",
       "      <td>100</td>\n",
       "      <td>NaN</td>\n",
       "      <td>NaN</td>\n",
       "      <td>NaN</td>\n",
       "      <td>NaN</td>\n",
       "      <td>NaN</td>\n",
       "    </tr>\n",
       "    <tr>\n",
       "      <th>2</th>\n",
       "      <td>RandomForestRegressor</td>\n",
       "      <td>-4.78478</td>\n",
       "      <td>-4.36068</td>\n",
       "      <td>-4.03315</td>\n",
       "      <td>0.314359</td>\n",
       "      <td>2</td>\n",
       "      <td>300</td>\n",
       "      <td>NaN</td>\n",
       "      <td>NaN</td>\n",
       "      <td>NaN</td>\n",
       "      <td>NaN</td>\n",
       "      <td>NaN</td>\n",
       "    </tr>\n",
       "    <tr>\n",
       "      <th>16</th>\n",
       "      <td>GradientBoostingRegressor</td>\n",
       "      <td>-5.43727</td>\n",
       "      <td>-5.03049</td>\n",
       "      <td>-4.28152</td>\n",
       "      <td>0.530261</td>\n",
       "      <td>NaN</td>\n",
       "      <td>300</td>\n",
       "      <td>NaN</td>\n",
       "      <td>1</td>\n",
       "      <td>NaN</td>\n",
       "      <td>NaN</td>\n",
       "      <td>NaN</td>\n",
       "    </tr>\n",
       "    <tr>\n",
       "      <th>17</th>\n",
       "      <td>GradientBoostingRegressor</td>\n",
       "      <td>-5.43738</td>\n",
       "      <td>-5.03364</td>\n",
       "      <td>-4.29264</td>\n",
       "      <td>0.524667</td>\n",
       "      <td>NaN</td>\n",
       "      <td>500</td>\n",
       "      <td>NaN</td>\n",
       "      <td>1</td>\n",
       "      <td>NaN</td>\n",
       "      <td>NaN</td>\n",
       "      <td>NaN</td>\n",
       "    </tr>\n",
       "    <tr>\n",
       "      <th>15</th>\n",
       "      <td>GradientBoostingRegressor</td>\n",
       "      <td>-5.45593</td>\n",
       "      <td>-5.05733</td>\n",
       "      <td>-4.30992</td>\n",
       "      <td>0.528889</td>\n",
       "      <td>NaN</td>\n",
       "      <td>100</td>\n",
       "      <td>NaN</td>\n",
       "      <td>1</td>\n",
       "      <td>NaN</td>\n",
       "      <td>NaN</td>\n",
       "      <td>NaN</td>\n",
       "    </tr>\n",
       "    <tr>\n",
       "      <th>0</th>\n",
       "      <td>LinearRegression</td>\n",
       "      <td>-5.52165</td>\n",
       "      <td>-5.19267</td>\n",
       "      <td>-4.61352</td>\n",
       "      <td>0.410784</td>\n",
       "      <td>NaN</td>\n",
       "      <td>NaN</td>\n",
       "      <td>NaN</td>\n",
       "      <td>NaN</td>\n",
       "      <td>NaN</td>\n",
       "      <td>NaN</td>\n",
       "      <td>NaN</td>\n",
       "    </tr>\n",
       "    <tr>\n",
       "      <th>12</th>\n",
       "      <td>GradientBoostingRegressor</td>\n",
       "      <td>-5.26142</td>\n",
       "      <td>-5.03631</td>\n",
       "      <td>-4.6294</td>\n",
       "      <td>0.288266</td>\n",
       "      <td>NaN</td>\n",
       "      <td>100</td>\n",
       "      <td>NaN</td>\n",
       "      <td>0.8</td>\n",
       "      <td>NaN</td>\n",
       "      <td>NaN</td>\n",
       "      <td>NaN</td>\n",
       "    </tr>\n",
       "    <tr>\n",
       "      <th>14</th>\n",
       "      <td>GradientBoostingRegressor</td>\n",
       "      <td>-5.95185</td>\n",
       "      <td>-5.42751</td>\n",
       "      <td>-4.81616</td>\n",
       "      <td>0.467706</td>\n",
       "      <td>NaN</td>\n",
       "      <td>500</td>\n",
       "      <td>NaN</td>\n",
       "      <td>0.8</td>\n",
       "      <td>NaN</td>\n",
       "      <td>NaN</td>\n",
       "      <td>NaN</td>\n",
       "    </tr>\n",
       "    <tr>\n",
       "      <th>13</th>\n",
       "      <td>GradientBoostingRegressor</td>\n",
       "      <td>-5.92561</td>\n",
       "      <td>-5.41544</td>\n",
       "      <td>-4.81855</td>\n",
       "      <td>0.456097</td>\n",
       "      <td>NaN</td>\n",
       "      <td>300</td>\n",
       "      <td>NaN</td>\n",
       "      <td>0.8</td>\n",
       "      <td>NaN</td>\n",
       "      <td>NaN</td>\n",
       "      <td>NaN</td>\n",
       "    </tr>\n",
       "    <tr>\n",
       "      <th>22</th>\n",
       "      <td>SVR</td>\n",
       "      <td>-6.61406</td>\n",
       "      <td>-5.82803</td>\n",
       "      <td>-5.17916</td>\n",
       "      <td>0.593769</td>\n",
       "      <td>NaN</td>\n",
       "      <td>NaN</td>\n",
       "      <td>NaN</td>\n",
       "      <td>NaN</td>\n",
       "      <td>10</td>\n",
       "      <td>rbf</td>\n",
       "      <td>0.001</td>\n",
       "    </tr>\n",
       "    <tr>\n",
       "      <th>10</th>\n",
       "      <td>ElasticNet</td>\n",
       "      <td>-6.81995</td>\n",
       "      <td>-6.22034</td>\n",
       "      <td>-5.4005</td>\n",
       "      <td>0.600048</td>\n",
       "      <td>NaN</td>\n",
       "      <td>NaN</td>\n",
       "      <td>0.5</td>\n",
       "      <td>NaN</td>\n",
       "      <td>NaN</td>\n",
       "      <td>NaN</td>\n",
       "      <td>NaN</td>\n",
       "    </tr>\n",
       "    <tr>\n",
       "      <th>11</th>\n",
       "      <td>ElasticNet</td>\n",
       "      <td>-7.21336</td>\n",
       "      <td>-6.39985</td>\n",
       "      <td>-5.4234</td>\n",
       "      <td>0.739776</td>\n",
       "      <td>NaN</td>\n",
       "      <td>NaN</td>\n",
       "      <td>0.7</td>\n",
       "      <td>NaN</td>\n",
       "      <td>NaN</td>\n",
       "      <td>NaN</td>\n",
       "      <td>NaN</td>\n",
       "    </tr>\n",
       "    <tr>\n",
       "      <th>23</th>\n",
       "      <td>SVR</td>\n",
       "      <td>-6.96697</td>\n",
       "      <td>-6.20458</td>\n",
       "      <td>-5.53059</td>\n",
       "      <td>0.589725</td>\n",
       "      <td>NaN</td>\n",
       "      <td>NaN</td>\n",
       "      <td>NaN</td>\n",
       "      <td>NaN</td>\n",
       "      <td>10</td>\n",
       "      <td>rbf</td>\n",
       "      <td>0.0001</td>\n",
       "    </tr>\n",
       "    <tr>\n",
       "      <th>20</th>\n",
       "      <td>SVR</td>\n",
       "      <td>-6.96724</td>\n",
       "      <td>-6.20486</td>\n",
       "      <td>-5.53107</td>\n",
       "      <td>0.589654</td>\n",
       "      <td>NaN</td>\n",
       "      <td>NaN</td>\n",
       "      <td>NaN</td>\n",
       "      <td>NaN</td>\n",
       "      <td>1</td>\n",
       "      <td>rbf</td>\n",
       "      <td>0.001</td>\n",
       "    </tr>\n",
       "    <tr>\n",
       "      <th>21</th>\n",
       "      <td>SVR</td>\n",
       "      <td>-7.12192</td>\n",
       "      <td>-6.288</td>\n",
       "      <td>-5.6002</td>\n",
       "      <td>0.629774</td>\n",
       "      <td>NaN</td>\n",
       "      <td>NaN</td>\n",
       "      <td>NaN</td>\n",
       "      <td>NaN</td>\n",
       "      <td>1</td>\n",
       "      <td>rbf</td>\n",
       "      <td>0.0001</td>\n",
       "    </tr>\n",
       "  </tbody>\n",
       "</table>\n",
       "</div>"
      ],
      "text/plain": [
       "                    estimator min_score mean_score max_score std_score  \\\n",
       "19                        SVR  -3.96015   -3.63692  -3.31182  0.264679   \n",
       "4       RandomForestRegressor  -4.71273   -4.02048  -3.43271  0.527764   \n",
       "18                        SVR  -3.98891   -3.76299   -3.6079  0.163414   \n",
       "9       RandomForestRegressor   -4.4722   -4.03114    -3.673  0.331498   \n",
       "8       RandomForestRegressor  -4.54418   -4.06222  -3.81857  0.340803   \n",
       "5       RandomForestRegressor  -4.53298   -4.11924  -3.88598  0.293355   \n",
       "6       RandomForestRegressor  -4.64477   -4.16186  -3.90657  0.341657   \n",
       "7       RandomForestRegressor  -4.42101   -4.15914   -3.9769  0.189848   \n",
       "3       RandomForestRegressor  -4.76145   -4.36466  -4.01697  0.305909   \n",
       "1       RandomForestRegressor   -4.7808   -4.30608  -4.02175  0.337859   \n",
       "2       RandomForestRegressor  -4.78478   -4.36068  -4.03315  0.314359   \n",
       "16  GradientBoostingRegressor  -5.43727   -5.03049  -4.28152  0.530261   \n",
       "17  GradientBoostingRegressor  -5.43738   -5.03364  -4.29264  0.524667   \n",
       "15  GradientBoostingRegressor  -5.45593   -5.05733  -4.30992  0.528889   \n",
       "0            LinearRegression  -5.52165   -5.19267  -4.61352  0.410784   \n",
       "12  GradientBoostingRegressor  -5.26142   -5.03631   -4.6294  0.288266   \n",
       "14  GradientBoostingRegressor  -5.95185   -5.42751  -4.81616  0.467706   \n",
       "13  GradientBoostingRegressor  -5.92561   -5.41544  -4.81855  0.456097   \n",
       "22                        SVR  -6.61406   -5.82803  -5.17916  0.593769   \n",
       "10                 ElasticNet  -6.81995   -6.22034   -5.4005  0.600048   \n",
       "11                 ElasticNet  -7.21336   -6.39985   -5.4234  0.739776   \n",
       "23                        SVR  -6.96697   -6.20458  -5.53059  0.589725   \n",
       "20                        SVR  -6.96724   -6.20486  -5.53107  0.589654   \n",
       "21                        SVR  -7.12192     -6.288   -5.6002  0.629774   \n",
       "\n",
       "   max_features n_estimators l1_ratio learning_rate    C  kernel   gamma  \n",
       "19          NaN          NaN      NaN           NaN   10  linear     NaN  \n",
       "4             5          100      NaN           NaN  NaN     NaN     NaN  \n",
       "18          NaN          NaN      NaN           NaN    1  linear     NaN  \n",
       "9             7          500      NaN           NaN  NaN     NaN     NaN  \n",
       "8             7          300      NaN           NaN  NaN     NaN     NaN  \n",
       "5             5          300      NaN           NaN  NaN     NaN     NaN  \n",
       "6             5          500      NaN           NaN  NaN     NaN     NaN  \n",
       "7             7          100      NaN           NaN  NaN     NaN     NaN  \n",
       "3             2          500      NaN           NaN  NaN     NaN     NaN  \n",
       "1             2          100      NaN           NaN  NaN     NaN     NaN  \n",
       "2             2          300      NaN           NaN  NaN     NaN     NaN  \n",
       "16          NaN          300      NaN             1  NaN     NaN     NaN  \n",
       "17          NaN          500      NaN             1  NaN     NaN     NaN  \n",
       "15          NaN          100      NaN             1  NaN     NaN     NaN  \n",
       "0           NaN          NaN      NaN           NaN  NaN     NaN     NaN  \n",
       "12          NaN          100      NaN           0.8  NaN     NaN     NaN  \n",
       "14          NaN          500      NaN           0.8  NaN     NaN     NaN  \n",
       "13          NaN          300      NaN           0.8  NaN     NaN     NaN  \n",
       "22          NaN          NaN      NaN           NaN   10     rbf   0.001  \n",
       "10          NaN          NaN      0.5           NaN  NaN     NaN     NaN  \n",
       "11          NaN          NaN      0.7           NaN  NaN     NaN     NaN  \n",
       "23          NaN          NaN      NaN           NaN   10     rbf  0.0001  \n",
       "20          NaN          NaN      NaN           NaN    1     rbf   0.001  \n",
       "21          NaN          NaN      NaN           NaN    1     rbf  0.0001  "
      ]
     },
     "execution_count": 42,
     "metadata": {},
     "output_type": "execute_result"
    }
   ],
   "source": [
    "score_summary,best_models = helper1.score_summary(sort_by='max_score')\n",
    "score_summary"
   ]
  },
  {
   "cell_type": "code",
   "execution_count": 43,
   "metadata": {},
   "outputs": [],
   "source": [
    "best_estimator = score_summary.head(1).estimator.values[0]\n",
    "model = best_models[best_estimator]"
   ]
  },
  {
   "cell_type": "code",
   "execution_count": 44,
   "metadata": {},
   "outputs": [],
   "source": [
    "test_pred  = model.predict(X_test)"
   ]
  },
  {
   "cell_type": "code",
   "execution_count": 45,
   "metadata": {},
   "outputs": [],
   "source": [
    "results_df = pd.DataFrame({\n",
    "    'actual': y_test,\n",
    "    'model_pred': test_pred\n",
    "}).reset_index(drop=True)"
   ]
  },
  {
   "cell_type": "code",
   "execution_count": 46,
   "metadata": {},
   "outputs": [
    {
     "data": {
      "image/png": "[encoded data removed]",
      "text/plain": [
       "<Figure size 576x396 with 1 Axes>"
      ]
     },
     "metadata": {},
     "output_type": "display_data"
    }
   ],
   "source": [
    "sns.regplot(data=results_df,x='actual',y='model_pred')\n",
    "plt.show()"
   ]
  },
  {
   "cell_type": "code",
   "execution_count": 47,
   "metadata": {},
   "outputs": [
    {
     "name": "stdout",
     "output_type": "stream",
     "text": [
      "Test data R-2 score: 0.42278071282015717\n",
      "Test data RMSE score: 7.618621890759677\n"
     ]
    }
   ],
   "source": [
    "train_pred = model.predict(X_train)\n",
    "train_score = r2_score(y_train, train_pred)\n",
    "train_mse = mean_squared_error(y_train, train_pred)\n",
    "print(f'Test data R-2 score: {train_score}')\n",
    "print(f'Test data RMSE score: {np.sqrt(train_mse)}')"
   ]
  },
  {
   "cell_type": "code",
   "execution_count": 48,
   "metadata": {},
   "outputs": [
    {
     "name": "stdout",
     "output_type": "stream",
     "text": [
      "Test data R-2 score: 0.2950123009061817\n",
      "Test data RMSE score: 7.449633723135555\n"
     ]
    }
   ],
   "source": [
    "test_score = r2_score(y_test, test_pred)\n",
    "mse = mean_squared_error(y_test, test_pred)\n",
    "print(f'Test data R-2 score: {test_score}')\n",
    "print(f'Test data RMSE score: {np.sqrt(mse)}')"
   ]
  },
  {
   "cell_type": "markdown",
   "metadata": {},
   "source": [
    "##### Actual RMSE(untransformed)"
   ]
  },
  {
   "cell_type": "code",
   "execution_count": 49,
   "metadata": {},
   "outputs": [
    {
     "name": "stdout",
     "output_type": "stream",
     "text": [
      "Test data actual RMSE(inverse transform applied) score: 28.28128657062913\n"
     ]
    }
   ],
   "source": [
    "mse = mean_squared_error(y_test, test_pred)\n",
    "print(f'Test data actual RMSE(inverse transform applied) score: {inv_boxcox(np.sqrt(mse),lpc_lambda)}')"
   ]
  },
  {
   "cell_type": "markdown",
   "metadata": {},
   "source": [
    "#### 8. Conclusion"
   ]
  },
  {
   "cell_type": "markdown",
   "metadata": {},
   "source": [
    "The SVR model looks to give the best predictions. The looks to be a big difference between the train and test r2 however the \n",
    "rmse are quite close. This will suggest that there is a low chance of overfitting. "
   ]
  },
  {
   "cell_type": "code",
   "execution_count": null,
   "metadata": {},
   "outputs": [],
   "source": [
    " "
   ]
  },
  {
   "cell_type": "markdown",
   "metadata": {},
   "source": [
    "#### 9. To improve / productionise:\n",
    "    1. Try feature engineering \n",
    "    2. Try changing parameters used in preprocessing(outlier cutoff, feature scaling) and modelling parameters\n",
    "    3. Use pipelines \n",
    "    4. Unit testing\n",
    "    5. Integration testing"
   ]
  },
  {
   "cell_type": "code",
   "execution_count": null,
   "metadata": {},
   "outputs": [],
   "source": []
  }
 ],
 "metadata": {
  "kernelspec": {
   "display_name": "itv_env2",
   "language": "python",
   "name": "itv_env2"
  },
  "language_info": {
   "codemirror_mode": {
    "name": "ipython",
    "version": 3
   },
   "file_extension": ".py",
   "mimetype": "text/x-python",
   "name": "python",
   "nbconvert_exporter": "python",
   "pygments_lexer": "ipython3",
   "version": "3.6.6"
  }
 },
 "nbformat": 4,
 "nbformat_minor": 2
}
